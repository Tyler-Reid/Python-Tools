{
 "cells": [
  {
   "cell_type": "code",
   "execution_count": 11,
   "metadata": {},
   "outputs": [],
   "source": [
    "# import packages\n",
    "\n",
    "import pandas as pd\n",
    "import numpy as np\n"
   ]
  },
  {
   "cell_type": "code",
   "execution_count": 12,
   "metadata": {},
   "outputs": [],
   "source": [
    "# load in full short-term station dataset\n",
    "\n",
    "df1 = pd.read_csv('ST.csv')"
   ]
  },
  {
   "cell_type": "code",
   "execution_count": 13,
   "metadata": {},
   "outputs": [
    {
     "name": "stdout",
     "output_type": "stream",
     "text": [
      "       Name   2019  2020 % Change\n",
      "0  11410031  10138  9126     -10%\n",
      "1  11760021   9634  8067     -16%\n",
      "2  13100185    293   331      13%\n",
      "3  18000037   8584  7382     -14%\n",
      "4  28020000    778   145     -81%\n"
     ]
    }
   ],
   "source": [
    "# check\n",
    "\n",
    "print(df1.head())"
   ]
  },
  {
   "cell_type": "code",
   "execution_count": 14,
   "metadata": {},
   "outputs": [
    {
     "name": "stdout",
     "output_type": "stream",
     "text": [
      "<class 'pandas.core.frame.DataFrame'>\n",
      "RangeIndex: 910 entries, 0 to 909\n",
      "Data columns (total 4 columns):\n",
      " #   Column    Non-Null Count  Dtype \n",
      "---  ------    --------------  ----- \n",
      " 0   Name      910 non-null    int64 \n",
      " 1   2019      910 non-null    int64 \n",
      " 2   2020      910 non-null    int64 \n",
      " 3   % Change  910 non-null    object\n",
      "dtypes: int64(3), object(1)\n",
      "memory usage: 28.6+ KB\n"
     ]
    }
   ],
   "source": [
    "# check data type for each value\n",
    "\n",
    "df1.info()"
   ]
  },
  {
   "cell_type": "code",
   "execution_count": 15,
   "metadata": {},
   "outputs": [
    {
     "name": "stdout",
     "output_type": "stream",
     "text": [
      "    Site ID  Site Name                       Description Speed Limit  \\\n",
      "0  43007000   43007000           WEST 7TH AVE@ W OF K ST     25.0mph   \n",
      "1  43021000   43021000           WEST 7TH AVE@ W OF D ST     25.0mph   \n",
      "2  43026000   43026000        WEST 7TH AVE@BTWN C & A ST     25.0mph   \n",
      "3  43032000   43032000  EAST 7TH AVE@ WEST OF CORDOVA ST     25.0mph   \n",
      "4  43042000   43042000           WEST 8TH AVE@ W OF I ST     25.0mph   \n",
      "\n",
      "  Orientation   Latitude   Longitude  \n",
      "0           E  61.215633 -149.902367  \n",
      "1           E  61.215600 -149.890000  \n",
      "2           E  61.215600 -149.885000  \n",
      "3           E  61.215550 -149.880283  \n",
      "4           E  61.214600 -149.901000  \n"
     ]
    }
   ],
   "source": [
    "# load in second grouped short-term station dataset\n",
    "\n",
    "df2 = pd.read_csv('ST_Group.csv')\n",
    "print(df2.head())"
   ]
  },
  {
   "cell_type": "code",
   "execution_count": 16,
   "metadata": {},
   "outputs": [
    {
     "name": "stdout",
     "output_type": "stream",
     "text": [
      "<class 'pandas.core.frame.DataFrame'>\n",
      "RangeIndex: 72 entries, 0 to 71\n",
      "Data columns (total 7 columns):\n",
      " #   Column       Non-Null Count  Dtype  \n",
      "---  ------       --------------  -----  \n",
      " 0   Site ID      72 non-null     int64  \n",
      " 1   Site Name    72 non-null     int64  \n",
      " 2   Description  72 non-null     object \n",
      " 3   Speed Limit  72 non-null     object \n",
      " 4   Orientation  72 non-null     object \n",
      " 5   Latitude     72 non-null     float64\n",
      " 6   Longitude    72 non-null     float64\n",
      "dtypes: float64(2), int64(2), object(3)\n",
      "memory usage: 4.1+ KB\n"
     ]
    }
   ],
   "source": [
    "# check data types for each value\n",
    "\n",
    "df2.info()"
   ]
  },
  {
   "cell_type": "code",
   "execution_count": null,
   "metadata": {},
   "outputs": [],
   "source": []
  },
  {
   "cell_type": "code",
   "execution_count": 17,
   "metadata": {},
   "outputs": [],
   "source": [
    "# create new data set comprised only of small group stations and percentage change information\n",
    "\n",
    "df3 = df1.loc[df1['Name'].isin(df2['Site Name'])]"
   ]
  },
  {
   "cell_type": "code",
   "execution_count": 18,
   "metadata": {},
   "outputs": [
    {
     "name": "stdout",
     "output_type": "stream",
     "text": [
      "         Name  2019  2020 % Change\n",
      "165  43007000  1006   465     -54%\n",
      "166  43021000  2845  1081     -62%\n",
      "167  43026000  1522   592     -61%\n",
      "168  43032000   647   360     -44%\n",
      "169  43042000   960   619     -36%\n"
     ]
    }
   ],
   "source": [
    "print(df3.head())"
   ]
  },
  {
   "cell_type": "code",
   "execution_count": 19,
   "metadata": {},
   "outputs": [
    {
     "name": "stdout",
     "output_type": "stream",
     "text": [
      "<class 'pandas.core.frame.DataFrame'>\n",
      "Int64Index: 43 entries, 165 to 669\n",
      "Data columns (total 4 columns):\n",
      " #   Column    Non-Null Count  Dtype \n",
      "---  ------    --------------  ----- \n",
      " 0   Name      43 non-null     int64 \n",
      " 1   2019      43 non-null     int64 \n",
      " 2   2020      43 non-null     int64 \n",
      " 3   % Change  43 non-null     object\n",
      "dtypes: int64(3), object(1)\n",
      "memory usage: 1.7+ KB\n"
     ]
    }
   ],
   "source": [
    "df3.info()"
   ]
  },
  {
   "cell_type": "code",
   "execution_count": 46,
   "metadata": {},
   "outputs": [],
   "source": [
    "# save new data set as .csv\n",
    "\n",
    "df3.to_csv('Downtown_ST.csv', index = False)"
   ]
  },
  {
   "cell_type": "code",
   "execution_count": 21,
   "metadata": {},
   "outputs": [],
   "source": [
    "# change percentage values into string format\n",
    "\n",
    "df4 = pd.read_csv('Downtown_ST.csv', dtype={'% Change': str})\n"
   ]
  },
  {
   "cell_type": "code",
   "execution_count": 22,
   "metadata": {},
   "outputs": [
    {
     "name": "stdout",
     "output_type": "stream",
     "text": [
      "       Name  2019  2020 % Change\n",
      "0  43007000  1006   465    -0.54\n",
      "1  43021000  2845  1081    -0.62\n",
      "2  43026000  1522   592    -0.61\n",
      "3  43032000   647   360    -0.44\n",
      "4  43042000   960   619    -0.36\n"
     ]
    }
   ],
   "source": [
    "print(df4.head())"
   ]
  },
  {
   "cell_type": "code",
   "execution_count": null,
   "metadata": {},
   "outputs": [],
   "source": []
  },
  {
   "cell_type": "code",
   "execution_count": 23,
   "metadata": {},
   "outputs": [],
   "source": [
    "# change % change value to float\n",
    "\n",
    "df4['% Change'] = df4['% Change'].astype(float)\n",
    "    "
   ]
  },
  {
   "cell_type": "code",
   "execution_count": 24,
   "metadata": {},
   "outputs": [
    {
     "name": "stdout",
     "output_type": "stream",
     "text": [
      "       Name  2019  2020  % Change\n",
      "0  43007000  1006   465     -0.54\n",
      "1  43021000  2845  1081     -0.62\n",
      "2  43026000  1522   592     -0.61\n",
      "3  43032000   647   360     -0.44\n",
      "4  43042000   960   619     -0.36\n"
     ]
    }
   ],
   "source": [
    "print(df4.head())"
   ]
  },
  {
   "cell_type": "code",
   "execution_count": 25,
   "metadata": {},
   "outputs": [
    {
     "name": "stdout",
     "output_type": "stream",
     "text": [
      "<class 'pandas.core.frame.DataFrame'>\n",
      "RangeIndex: 43 entries, 0 to 42\n",
      "Data columns (total 4 columns):\n",
      " #   Column    Non-Null Count  Dtype  \n",
      "---  ------    --------------  -----  \n",
      " 0   Name      43 non-null     int64  \n",
      " 1   2019      43 non-null     int64  \n",
      " 2   2020      43 non-null     int64  \n",
      " 3   % Change  43 non-null     float64\n",
      "dtypes: float64(1), int64(3)\n",
      "memory usage: 1.5 KB\n"
     ]
    }
   ],
   "source": [
    "df4.info()"
   ]
  },
  {
   "cell_type": "code",
   "execution_count": 26,
   "metadata": {},
   "outputs": [
    {
     "data": {
      "text/plain": [
       "-0.37"
      ]
     },
     "execution_count": 26,
     "metadata": {},
     "output_type": "execute_result"
    }
   ],
   "source": [
    "# get average of all % change values rounded to two decimal points\n",
    "\n",
    "np.round(df4['% Change'].mean(), 2)"
   ]
  },
  {
   "cell_type": "code",
   "execution_count": null,
   "metadata": {},
   "outputs": [],
   "source": []
  },
  {
   "cell_type": "code",
   "execution_count": null,
   "metadata": {},
   "outputs": [],
   "source": []
  },
  {
   "cell_type": "code",
   "execution_count": null,
   "metadata": {},
   "outputs": [],
   "source": []
  },
  {
   "cell_type": "code",
   "execution_count": null,
   "metadata": {},
   "outputs": [],
   "source": []
  }
 ],
 "metadata": {
  "kernelspec": {
   "display_name": "Python 3",
   "language": "python",
   "name": "python3"
  },
  "language_info": {
   "codemirror_mode": {
    "name": "ipython",
    "version": 3
   },
   "file_extension": ".py",
   "mimetype": "text/x-python",
   "name": "python",
   "nbconvert_exporter": "python",
   "pygments_lexer": "ipython3",
   "version": "3.8.5"
  }
 },
 "nbformat": 4,
 "nbformat_minor": 5
}
