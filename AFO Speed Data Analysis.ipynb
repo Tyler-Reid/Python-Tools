{
 "cells": [
  {
   "cell_type": "markdown",
   "metadata": {},
   "source": [
    "# AFO Speed Data Analysis"
   ]
  },
  {
   "cell_type": "markdown",
   "metadata": {},
   "source": [
    "### Speed Data: What is it?"
   ]
  },
  {
   "cell_type": "markdown",
   "metadata": {},
   "source": [
    "Transportation Data Programs collects Speed Data from numerous Constant Count Stations (CCS). This data is a piece of the picture in recording traffic, although it is not used in any of our programs.\n",
    "\n",
    "The goal of this project is to use Speed Data in an analysis.\n",
    "\n",
    "This will require:\n",
    "1. exploratoratory data analysis (EDA)\n",
    "\n",
    "2. describing speed data in statistical terms\n",
    "\n",
    "3. deciding which format of speed data to use\n",
    "\n",
    "4. export relevant data from C2 in .csv format\n",
    "\n",
    "5. import data into this notebook using Pandas\n",
    "\n",
    "6. clean speed data for analysis\n",
    "\n",
    "7. create analysis process using Pandas for one month's worth of data\n",
    "\n",
    "8. concatenate multiple months into a one year dataframe (DF)\n",
    "\n",
    "9. expand initial analysis to whole year's data\n",
    "\n",
    "This will conclude initial analysis. The next phase will be combining speed data with volume data into a single analysis and looking for connections. \n",
    "\n",
    "This will be more complex than the previous exercise.\n",
    "10. hone in on which volume data to use\n",
    "\n",
    "11. EDA for a relevant analysis of both groups of statistics \n",
    "\n",
    "12. concatenate speed and volume data into one CSV using Pandas\n",
    "\n",
    "13. clean new volume/speed DF for analysis\n",
    "\n",
    "14. utilize linear regression EDA processes to detail suitability of data for linear regression analysis\n",
    "\n",
    "15. analyse volume/speed DF using linear regression to produce graph\n",
    "\n",
    "16. ?\n",
    "\n",
    "17. profit"
   ]
  },
  {
   "cell_type": "code",
   "execution_count": null,
   "metadata": {},
   "outputs": [],
   "source": []
  },
  {
   "cell_type": "code",
   "execution_count": null,
   "metadata": {},
   "outputs": [],
   "source": []
  },
  {
   "cell_type": "code",
   "execution_count": null,
   "metadata": {},
   "outputs": [],
   "source": []
  }
 ],
 "metadata": {
  "kernelspec": {
   "display_name": "Python 3",
   "language": "python",
   "name": "python3"
  },
  "language_info": {
   "codemirror_mode": {
    "name": "ipython",
    "version": 3
   },
   "file_extension": ".py",
   "mimetype": "text/x-python",
   "name": "python",
   "nbconvert_exporter": "python",
   "pygments_lexer": "ipython3",
   "version": "3.8.3"
  }
 },
 "nbformat": 4,
 "nbformat_minor": 4
}
